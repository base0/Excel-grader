{
  "nbformat": 4,
  "nbformat_minor": 0,
  "metadata": {
    "colab": {
      "name": "01.ipynb",
      "provenance": [],
      "collapsed_sections": []
    },
    "kernelspec": {
      "name": "python3",
      "display_name": "Python 3"
    },
    "language_info": {
      "name": "python"
    }
  },
  "cells": [
    {
      "cell_type": "code",
      "metadata": {
        "id": "tUEqdnxsG_dx"
      },
      "source": [
        "!unzip -q excel.zip"
      ],
      "execution_count": null,
      "outputs": []
    },
    {
      "cell_type": "code",
      "metadata": {
        "id": "hH58wQlhThmw"
      },
      "source": [
        "import os\n",
        "\n",
        "FOLDER = 'Excel W1'\n",
        "files = [s for s in os.listdir(FOLDER) if len(s) == 14]"
      ],
      "execution_count": null,
      "outputs": []
    },
    {
      "cell_type": "code",
      "metadata": {
        "id": "ouxw2ZzTV2WF"
      },
      "source": [
        "import numpy as np\n",
        "import pandas as pd\n",
        "\n",
        "for f in files:\n",
        "  df = pd.read_csv(f'{FOLDER}/{f}')\n",
        "  id = int(f.split('.')[0])\n",
        "  score = 0\n",
        "  if sum(np.abs(df[df.columns[0]] * 0.9 - df[df.columns[1]]) < 0.01) == 1000:\n",
        "    score += 1\n",
        "  if df.iloc[484].price == id % 1000:\n",
        "    score += 3\n",
        "  else:\n",
        "    print(id, int(df.iloc[484].price))  #  cheat\n",
        "  \n"
      ],
      "execution_count": null,
      "outputs": []
    }
  ]
}